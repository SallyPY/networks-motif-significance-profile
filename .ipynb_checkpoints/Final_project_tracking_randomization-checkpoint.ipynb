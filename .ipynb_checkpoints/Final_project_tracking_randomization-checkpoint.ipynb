{
 "cells": [
  {
   "cell_type": "code",
   "execution_count": 7,
   "metadata": {
    "collapsed": false,
    "deletable": true,
    "editable": true
   },
   "outputs": [],
   "source": [
    "#imports\n",
    "import networkx as nx\n",
    "import matplotlib.pyplot as plt\n",
    "%matplotlib inline\n",
    "import numpy as np\n",
    "import random\n",
    "import math"
   ]
  },
  {
   "cell_type": "code",
   "execution_count": 8,
   "metadata": {
    "collapsed": true,
    "deletable": true,
    "editable": true
   },
   "outputs": [],
   "source": [
    "shared_file_path = '/home/sallyyuen/Documents/Networks/final_project/sample_data/'"
   ]
  },
  {
   "cell_type": "markdown",
   "metadata": {
    "deletable": true,
    "editable": true
   },
   "source": [
    "Methods"
   ]
  },
  {
   "cell_type": "code",
   "execution_count": 9,
   "metadata": {
    "collapsed": false,
    "deletable": true,
    "editable": true
   },
   "outputs": [],
   "source": [
    "def calculate_zscore(target_freq, random_freq, std_dev):\n",
    "    \"\"\"Calculates a motif's z-score\n",
    "\n",
    "    Args:\n",
    "        target_freq: the motif frequency of the target network\n",
    "        random_freq: the average motif frequency of randomized target networks\n",
    "        std_dev: the standard deviation of motif frequencies of randomomized target networks\n",
    "        \n",
    "    Returns:\n",
    "        The z-score of the motif\n",
    "\n",
    "    \"\"\"\n",
    "    if std_dev == 0.0:\n",
    "        return (target_freq - random_freq)\n",
    "        \n",
    "    else:\n",
    "        return (target_freq - random_freq) / std_dev"
   ]
  },
  {
   "cell_type": "code",
   "execution_count": 10,
   "metadata": {
    "collapsed": false,
    "deletable": true,
    "editable": true
   },
   "outputs": [],
   "source": [
    "def randomize_network(G, num_swaps):\n",
    "    \"\"\"Randomize a network while preserving degree distribution.\n",
    "\n",
    "    Args:\n",
    "        G: the target network\n",
    "        num_swaps: the number of edge swaps\n",
    "        \n",
    "    Returns:\n",
    "        The randomized network\n",
    "\n",
    "    \"\"\"\n",
    "    copy = G.copy()\n",
    "    nodes = copy.nodes()\n",
    "    \n",
    "    for i in range(num_swaps):\n",
    "    #v1-v2, v3-v4 --> v1-v4, v3-v2\n",
    "        v1 = random.choice(nodes)\n",
    "\n",
    "        while len(copy.neighbors(v1)) == 0:\n",
    "            v1 = random.choice(nodes) \n",
    "        v2 = random.choice(copy.neighbors(v1))\n",
    "\n",
    "        v3 = get_valid_v3(copy, v1, v2, nodes)\n",
    "\n",
    "        neighbors = copy.neighbors(v3);\n",
    "\n",
    "        v4 = random.choice(neighbors)\n",
    "\n",
    "        while(v4 == v2 or v4 == v1 or copy.has_edge(v1, v4)):\n",
    "            neighbors.remove(v4)\n",
    "            # see if any neighbors of v3 are valid\n",
    "            if(len(neighbors) > 0):\n",
    "                v4 = random.choice(neighbors)\n",
    "            #chooses new v3 if v4 is not valid\n",
    "            else:\n",
    "                v3 = get_valid_v3(copy, v1, v2, nodes)\n",
    "                neighbors = copy.neighbors(v3);\n",
    "                v4 = random.choice(neighbors);\n",
    "\n",
    "        copy.remove_edge(v1, v2)\n",
    "        copy.remove_edge(v3, v4)\n",
    "        copy.add_edge(v1, v4)\n",
    "        copy.add_edge(v3, v2)\n",
    "            \n",
    "    return copy\n",
    "\n",
    "def get_valid_v3(G, v1, v2, nodes):\n",
    "    output = random.choice(nodes)\n",
    "    while output == v1 or output == v2 or len(G.neighbors(output)) == 0 or G.has_edge(output, v2):\n",
    "        output = random.choice(nodes) # get v3\n",
    "    return output"
   ]
  },
  {
   "cell_type": "code",
   "execution_count": 11,
   "metadata": {
    "collapsed": true
   },
   "outputs": [],
   "source": [
    "def calculate_random_zscore_factors(G, num_randomizations, num_swaps, triad_names):\n",
    "    \"\"\"Randomize a network while preserving degree distribution\n",
    "    \n",
    "    Args:\n",
    "        G: the target network\n",
    "        num_randomizations: the number of randomizations\n",
    "        num_swaps: the number of edge swaps\n",
    "        triad_names: the list of triad names\n",
    "        \n",
    "    Returns:\n",
    "        The dictionary of key:motif - > value:standard deviation of frequency in randomomized target networks, and \n",
    "        the dictionary of key:motif - > value:average frequency in random graphs\n",
    "\n",
    "    \"\"\"\n",
    "\n",
    "    triad_frequencies = {}\n",
    "    triad_std_list = {}\n",
    "    triad_std = {} \n",
    "    census = {}\n",
    "    \n",
    "    for motif in triad_names:\n",
    "        triad_std_list[motif] = []\n",
    "        triad_std[motif] = 0\n",
    "        census[motif] = 0\n",
    "        triad_frequencies[motif] = 0\n",
    "    \n",
    "    for i in range(num_randomizations): \n",
    "        \n",
    "        randomized = randomize_network(G, num_swaps)\n",
    "        random_census = nx.triadic_census(randomized)  \n",
    "        \n",
    "        for motif in random_census:\n",
    "            triad_frequencies[motif] += random_census[motif]\n",
    "            triad_std_list[motif].extend([random_census[motif]])\n",
    "              \n",
    "    #standard deviation\n",
    "    for motif in triad_std_list:\n",
    "        triad_std[motif] = np.std(triad_std_list[motif])\n",
    "        \n",
    "    \n",
    "    #average frequency\n",
    "    for motif in triad_frequencies:\n",
    "        triad_frequencies[motif] = triad_frequencies[motif]/num_randomizations\n",
    "        \n",
    "    return triad_std, triad_frequencies"
   ]
  },
  {
   "cell_type": "code",
   "execution_count": 12,
   "metadata": {
    "collapsed": true
   },
   "outputs": [],
   "source": [
    "def randomize_network_frequency(G, num_swaps, triad_names, step_size):\n",
    "    \"\"\"Randomize a network while preserving degree distribution.\n",
    "\n",
    "    Args:\n",
    "        G: the target network\n",
    "        num_swaps: the number of edge swaps\n",
    "        \n",
    "    Returns:\n",
    "        The randomized network\n",
    "\n",
    "    \"\"\"\n",
    "    changing_frequency = {}\n",
    "    copy = G.copy()\n",
    "    nodes = copy.nodes()\n",
    "    swaps = 0\n",
    "    \n",
    "    for motif in triad_names:\n",
    "        changing_frequency[motif] = []\n",
    "    \n",
    "    for i in range(num_swaps):\n",
    "    #v1-v2, v3-v4 --> v1-v4, v3-v2\n",
    "        \n",
    "        v1 = random.choice(nodes)\n",
    "\n",
    "        while len(copy.neighbors(v1)) == 0:\n",
    "            v1 = random.choice(nodes) \n",
    "        v2 = random.choice(copy.neighbors(v1))\n",
    "\n",
    "        v3 = get_valid_v3(copy, v1, v2, nodes)\n",
    "\n",
    "        neighbors = copy.neighbors(v3);\n",
    "\n",
    "        v4 = random.choice(neighbors)\n",
    "\n",
    "        while(v4 == v2 or v4 == v1 or copy.has_edge(v1, v4)):\n",
    "            neighbors.remove(v4)\n",
    "            # see if any neighbors of v3 are valid\n",
    "            if(len(neighbors) > 0):\n",
    "                v4 = random.choice(neighbors)\n",
    "            #chooses new v3 if v4 is not valid\n",
    "            else:\n",
    "                v3 = get_valid_v3(copy, v1, v2, nodes)\n",
    "                neighbors = copy.neighbors(v3);\n",
    "                v4 = random.choice(neighbors);\n",
    "\n",
    "        copy.remove_edge(v1, v2)\n",
    "        copy.remove_edge(v3, v4)\n",
    "        copy.add_edge(v1, v4)\n",
    "        copy.add_edge(v3, v2)\n",
    "        \n",
    "        if swaps % step_size == 0:\n",
    "            census = nx.triadic_census(copy)\n",
    "            for motif in census:\n",
    "                changing_frequency[motif].extend([census[motif]])\n",
    "        swaps += 1\n",
    "            \n",
    "    return copy, changing_frequency"
   ]
  },
  {
   "cell_type": "code",
   "execution_count": 13,
   "metadata": {
    "collapsed": true,
    "deletable": true,
    "editable": true
   },
   "outputs": [],
   "source": [
    "def calculate_random_zscore_factors_frequency(G, num_randomizations, num_swaps, triad_names, step_size):\n",
    "    \"\"\"Randomize a network while preserving degree distribution\n",
    "    \n",
    "    Args:\n",
    "        G: the target network\n",
    "        num_randomizations: the number of randomizations\n",
    "        num_swaps: the number of edge swaps\n",
    "        triad_names: the list of triad names\n",
    "        \n",
    "    Returns:\n",
    "        The dictionary of key:motif - > value:standard deviation of frequency in randomomized target networks, and \n",
    "        the dictionary of key:motif - > value:average frequency in random graphs\n",
    "\n",
    "    \"\"\"\n",
    "\n",
    "    triad_frequencies = {}\n",
    "    triad_std_list = {}\n",
    "    triad_std = {} \n",
    "    census = {}\n",
    "    \n",
    "    for motif in triad_names:\n",
    "        triad_std_list[motif] = []\n",
    "        triad_std[motif] = 0\n",
    "        census[motif] = 0\n",
    "        triad_frequencies[motif] = 0\n",
    "    \n",
    "    for i in range(num_randomizations): \n",
    "        \n",
    "        randomized, changing_freq = randomize_network_frequency(G, num_swaps, triad_names, step_size)\n",
    "        random_census = nx.triadic_census(randomized)  \n",
    "        \n",
    "        for motif in random_census:\n",
    "            triad_frequencies[motif] += random_census[motif]\n",
    "            triad_std_list[motif].extend([random_census[motif]])\n",
    "              \n",
    "    #standard deviation\n",
    "    for motif in triad_std_list:\n",
    "        triad_std[motif] = np.std(triad_std_list[motif])\n",
    "        \n",
    "    \n",
    "    #average frequency\n",
    "    for motif in triad_frequencies:\n",
    "        triad_frequencies[motif] = triad_frequencies[motif]/num_randomizations\n",
    "        \n",
    "    return triad_std, triad_frequencies, changing_freq"
   ]
  },
  {
   "cell_type": "code",
   "execution_count": 14,
   "metadata": {
    "collapsed": true,
    "deletable": true,
    "editable": true
   },
   "outputs": [],
   "source": [
    "def retrieve_motif_profile_not_normalized(triad_names, real_freq, rand_avg_freq, std):\n",
    "    motif_sp = [None]*16\n",
    "    for motif in std:\n",
    "        zscore = calculate_zscore(real_freq[motif], rand_avg_freq[motif], std[motif])\n",
    "        motif_sp[triad_names.index(motif)] = zscore\n",
    "    return motif_sp"
   ]
  },
  {
   "cell_type": "code",
   "execution_count": 15,
   "metadata": {
    "collapsed": false,
    "deletable": true,
    "editable": true
   },
   "outputs": [],
   "source": [
    "def retrieve_motif_profile_normalized(triad_names, target_freq, rand_avg_freq, std):\n",
    "    \"\"\"Return the triad motif signicance profile of a network\n",
    "     \n",
    "    Args:\n",
    "        triad_names: the list of triad names\n",
    "        target_freq: the dictionary of motif to motif frequencies of the target network\n",
    "        rand_avg_freq: the dictionary of motif to average motif frequencies of randomized target networks\n",
    "        std: the dictionary of motif to standard deviation of motif frequencies of randomomized target networks\n",
    "        \n",
    "    Returns:\n",
    "        The motif significance profile\n",
    "\n",
    "    \"\"\"\n",
    "\n",
    "    motif_sp = [None]*16\n",
    "    length = 0\n",
    "    for motif in triad_names:\n",
    "        zscore = calculate_zscore(target_freq[motif], rand_avg_freq[motif], std[motif])\n",
    "        motif_sp[triad_names.index(motif)] = zscore\n",
    "    \n",
    "    # eliminate first three motifs    \n",
    "    motif_sp = motif_sp[3:]\n",
    "    \n",
    "    for motif in motif_sp:\n",
    "        length += motif * motif\n",
    "        \n",
    "    length = math.sqrt(length)\n",
    "    #normalize\n",
    "    for i in range(13):\n",
    "        motif_sp[i] = motif_sp[i]/length\n",
    "\n",
    "    return motif_sp"
   ]
  },
  {
   "cell_type": "code",
   "execution_count": null,
   "metadata": {
    "collapsed": true,
    "deletable": true,
    "editable": true
   },
   "outputs": [],
   "source": []
  },
  {
   "cell_type": "code",
   "execution_count": null,
   "metadata": {
    "collapsed": true,
    "deletable": true,
    "editable": true
   },
   "outputs": [],
   "source": []
  },
  {
   "cell_type": "code",
   "execution_count": null,
   "metadata": {
    "collapsed": true,
    "deletable": true,
    "editable": true
   },
   "outputs": [],
   "source": []
  },
  {
   "cell_type": "code",
   "execution_count": null,
   "metadata": {
    "collapsed": true,
    "deletable": true,
    "editable": true
   },
   "outputs": [],
   "source": []
  },
  {
   "cell_type": "code",
   "execution_count": null,
   "metadata": {
    "collapsed": true,
    "deletable": true,
    "editable": true
   },
   "outputs": [],
   "source": []
  },
  {
   "cell_type": "code",
   "execution_count": null,
   "metadata": {
    "collapsed": true,
    "deletable": true,
    "editable": true
   },
   "outputs": [],
   "source": []
  },
  {
   "cell_type": "markdown",
   "metadata": {
    "deletable": true,
    "editable": true
   },
   "source": [
    "Testing"
   ]
  },
  {
   "cell_type": "code",
   "execution_count": 95,
   "metadata": {
    "collapsed": false,
    "deletable": true,
    "editable": true
   },
   "outputs": [],
   "source": []
  },
  {
   "cell_type": "code",
   "execution_count": 18,
   "metadata": {
    "collapsed": false,
    "deletable": true,
    "editable": true
   },
   "outputs": [
    {
     "name": "stdout",
     "output_type": "stream",
     "text": [
      "('003', '012', '102', '021D', '021U', '021C', '111D', '111U', '030T', '030C', '201', '120D', '120U', '120C', '210', '300')\n"
     ]
    }
   ],
   "source": [
    "print(triad_names)"
   ]
  },
  {
   "cell_type": "code",
   "execution_count": 261,
   "metadata": {
    "collapsed": false,
    "deletable": true,
    "editable": true
   },
   "outputs": [
    {
     "name": "stdout",
     "output_type": "stream",
     "text": [
      "32\n",
      "67\n",
      "97\n",
      "688\n",
      "512\n"
     ]
    }
   ],
   "source": [
    "graph = nx.read_edgelist(shared_file_path + 'social_network/leader2inter_st.txt', create_using=nx.DiGraph(), nodetype=int, data=[('weight', float),])\n",
    "print graph.number_of_nodes()\n",
    "graph = nx.read_edgelist(shared_file_path + 'social_network/prisoninter_st.txt', create_using=nx.DiGraph(), nodetype=int, data=[('weight', float),])\n",
    "print graph.number_of_nodes()\n",
    "graph = nx.read_edgelist(shared_file_path + 'e_coli_transcription/1aorinter_st.txt', create_using=nx.DiGraph(), nodetype=int, data=[('weight', float),])\n",
    "print graph.number_of_nodes()\n",
    "graph = nx.read_edgelist(shared_file_path + 'yeast_transcription/yeastinter_st.txt', create_using=nx.DiGraph(), nodetype=int, data=[('weight', float),])\n",
    "print graph.number_of_nodes()\n",
    "graph = nx.read_edgelist(shared_file_path  + 'electronic_circuits/s838_st.txt', create_using=nx.DiGraph(), nodetype=int, data=[('weight', float),])\n",
    "print graph.number_of_nodes()"
   ]
  },
  {
   "cell_type": "code",
   "execution_count": null,
   "metadata": {
    "collapsed": true,
    "deletable": true,
    "editable": true
   },
   "outputs": [],
   "source": []
  },
  {
   "cell_type": "code",
   "execution_count": null,
   "metadata": {
    "collapsed": true,
    "deletable": true,
    "editable": true
   },
   "outputs": [],
   "source": []
  },
  {
   "cell_type": "code",
   "execution_count": null,
   "metadata": {
    "collapsed": true,
    "deletable": true,
    "editable": true
   },
   "outputs": [],
   "source": []
  },
  {
   "cell_type": "code",
   "execution_count": null,
   "metadata": {
    "collapsed": true,
    "deletable": true,
    "editable": true
   },
   "outputs": [],
   "source": [
    "\n",
    "\n"
   ]
  },
  {
   "cell_type": "markdown",
   "metadata": {
    "deletable": true,
    "editable": true
   },
   "source": [
    "Main"
   ]
  },
  {
   "cell_type": "code",
   "execution_count": 17,
   "metadata": {
    "collapsed": true,
    "deletable": true,
    "editable": true
   },
   "outputs": [],
   "source": [
    "triad_names = nx.algorithms.triads.TRIAD_NAMES"
   ]
  },
  {
   "cell_type": "code",
   "execution_count": 21,
   "metadata": {
    "collapsed": false,
    "deletable": true,
    "editable": true
   },
   "outputs": [],
   "source": [
    "def get_profile_list(filename):\n",
    "    graph = nx.read_edgelist(filename, create_using=nx.DiGraph(), nodetype=int, data=[('weight', float),])\n",
    "    census = nx.triadic_census(graph)\n",
    "    \n",
    "#     swap_sizes =[100, 10000, 10000, 10000, 100000, 100000, 1000000]\n",
    "    swap_sizes =[100, 10000]\n",
    "    \n",
    "    motif_list =[]\n",
    "\n",
    "    for N in swap_sizes:\n",
    "        std, rand_avg_freq = calculate_random_zscore_factors(graph, 2, N, triad_names)\n",
    "        motif_sp = retrieve_motif_profile_normalized(triad_names, census, rand_avg_freq, std)\n",
    "        motif_list.extend([motif_sp])\n",
    "    return motif_list"
   ]
  },
  {
   "cell_type": "code",
   "execution_count": 48,
   "metadata": {
    "collapsed": true,
    "deletable": true,
    "editable": true
   },
   "outputs": [],
   "source": [
    "def get_profile_list_frequency(filename):\n",
    "    graph = nx.read_edgelist(filename, create_using=nx.DiGraph(), nodetype=int, data=[('weight', float),])\n",
    "    census = nx.triadic_census(graph)\n",
    "    \n",
    "    motif_list =[]\n",
    "    changing_list = []\n",
    "    avg_changing_freq = {}\n",
    "    num_swaps = 1000\n",
    "    num_increments = 20\n",
    "    step_size = 50\n",
    "    num_graphs = 30\n",
    "\n",
    "    for N in range(num_graphs):\n",
    "        std, rand_avg_freq, changing_freq = calculate_random_zscore_factors_frequency(graph, 1, num_swaps, triad_names, step_size)\n",
    "        motif_sp = retrieve_motif_profile_normalized(triad_names, census, rand_avg_freq, std)\n",
    "        motif_list.extend([motif_sp])\n",
    "        changing_list.extend([changing_freq])\n",
    "        \n",
    "    avg_changing_freq = get_avg_changing_frequency(changing_list, 7, triad_names)\n",
    "    \n",
    "    return motif_list, changing_list, avg_changing_freq"
   ]
  },
  {
   "cell_type": "code",
   "execution_count": 37,
   "metadata": {
    "collapsed": true,
    "deletable": true,
    "editable": true
   },
   "outputs": [],
   "source": [
    "def get_avg_changing_frequency(changing_list, num_list, triad_names):\n",
    "    avg_changing_freq = {}\n",
    "    avg_changing_sum = {}\n",
    "    \n",
    "    for motif in triad_names:\n",
    "            avg_changing_freq[motif] = [None] * 20\n",
    "            for i in range(20):\n",
    "                avg_changing_freq[motif][i] = 0\n",
    "    dict_motif_to_freq = {}\n",
    "    \n",
    "    for l in range(num_list):\n",
    "        dict_motif_to_freq = changing_list[l]\n",
    "        for motif in dict_motif_to_freq:\n",
    "                for i in range(20):\n",
    "                    avg_changing_freq[motif][i] += dict_motif_to_freq[motif][i]\n",
    "        \n",
    "    for motif in avg_changing_freq:\n",
    "        for i in range(20):\n",
    "            avg_changing_freq[motif][i] = avg_changing_freq[motif][i]/num_list\n",
    "    return avg_changing_freq\n",
    "    "
   ]
  },
  {
   "cell_type": "code",
   "execution_count": 94,
   "metadata": {
    "collapsed": false,
    "deletable": true,
    "editable": true
   },
   "outputs": [],
   "source": [
    "    swap_sizes = [100, 10000, 10000, 10000, 100000, 100000, 1000000]"
   ]
  },
  {
   "cell_type": "markdown",
   "metadata": {
    "deletable": true,
    "editable": true
   },
   "source": [
    "Electronic Circuits"
   ]
  },
  {
   "cell_type": "code",
   "execution_count": 44,
   "metadata": {
    "collapsed": false,
    "deletable": true,
    "editable": true,
    "scrolled": true
   },
   "outputs": [],
   "source": [
    "#s208\n",
    "el_cir_s208_motif_list = get_profile_list(shared_file_path + 'electronic_circuits/s208_st.txt')\n",
    "\n",
    "#s420\n",
    "el_cir_s420_motif_list = get_profile_list(shared_file_path + 'electronic_circuits/s420_st.txt')\n",
    "\n",
    "#s838\n",
    "el_cir_s838_motif_list = get_profile_list(shared_file_path + 'electronic_circuits/s838_st.txt')"
   ]
  },
  {
   "cell_type": "code",
   "execution_count": 200,
   "metadata": {
    "collapsed": false,
    "deletable": true,
    "editable": true
   },
   "outputs": [],
   "source": [
    "el_cir_s208_motif_list = get_profile_list(shared_file_path + 'electronic_circuits/s208_st.txt')"
   ]
  },
  {
   "cell_type": "code",
   "execution_count": 49,
   "metadata": {
    "collapsed": false,
    "deletable": true,
    "editable": true
   },
   "outputs": [],
   "source": [
    "el_cir_s208_motif_list, el_cir_s208_changing_freq, el_cir_s208_avg_changing_freq  = get_profile_list_frequency(shared_file_path + 'electronic_circuits/s208_st.txt')\n"
   ]
  },
  {
   "cell_type": "code",
   "execution_count": 61,
   "metadata": {
    "collapsed": false,
    "deletable": true,
    "editable": true
   },
   "outputs": [
    {
     "data": {
      "text/plain": [
       "<matplotlib.legend.Legend at 0x7fc073e2bb50>"
      ]
     },
     "execution_count": 61,
     "metadata": {},
     "output_type": "execute_result"
    },
    {
     "data": {
      "image/png": "[encoded data removed]",
      "text/plain": [
       "<matplotlib.figure.Figure at 0x7fc073e2b990>"
      ]
     },
     "metadata": {},
     "output_type": "display_data"
    }
   ],
   "source": [
    "increment = [i * 50 for i in range(20)]\n",
    "index_list = [3, 4, 5, 6, 7, 8, 9, 10, 11, 12, 13, 14, 15]\n",
    "for index in index_list:\n",
    "        plt.plot(increment, el_cir_s208_avg_changing_freq[triad_names[index]], label = index - 2)\n",
    "plt.legend()"
   ]
  },
  {
   "cell_type": "code",
   "execution_count": 51,
   "metadata": {
    "collapsed": false,
    "deletable": true,
    "editable": true
   },
   "outputs": [
    {
     "data": {
      "text/plain": [
       "<matplotlib.legend.Legend at 0x7fc07444aad0>"
      ]
     },
     "execution_count": 51,
     "metadata": {},
     "output_type": "execute_result"
    },
    {
     "data": {
      "image/png": "[encoded data removed]",
      "text/plain": [
       "<matplotlib.figure.Figure at 0x7fc07444a610>"
      ]
     },
     "metadata": {},
     "output_type": "display_data"
    }
   ],
   "source": [
    "increment = [i * 50 for i in range(20)]\n",
    "\n",
    "for motif in triad_names:\n",
    "    if motif != '003' and  motif != '012' and  motif != '102':\n",
    "        plt.plot(increment, el_cir_s208_changing_freq[1][motif], label = motif)\n",
    "        \n",
    "\n",
    "plt.legend()"
   ]
  },
  {
   "cell_type": "code",
   "execution_count": null,
   "metadata": {
    "collapsed": true
   },
   "outputs": [],
   "source": []
  },
  {
   "cell_type": "code",
   "execution_count": 119,
   "metadata": {
    "collapsed": false,
    "deletable": true,
    "editable": true
   },
   "outputs": [
    {
     "data": {
      "text/plain": [
       "<matplotlib.legend.Legend at 0x7fc02dae1990>"
      ]
     },
     "execution_count": 119,
     "metadata": {},
     "output_type": "execute_result"
    },
    {
     "data": {
      "image/png": "[encoded data removed]",
      "text/plain": [
       "<matplotlib.figure.Figure at 0x7fc02dae1350>"
      ]
     },
     "metadata": {},
     "output_type": "display_data"
    }
   ],
   "source": [
    "for i in range(2):\n",
    "    plt.plot(el_cir_s208_motif_list[i], label=i)\n",
    "plt.legend()\n"
   ]
  },
  {
   "cell_type": "markdown",
   "metadata": {
    "deletable": true,
    "editable": true
   },
   "source": [
    "Plotting circuit motif profiles"
   ]
  },
  {
   "cell_type": "code",
   "execution_count": 78,
   "metadata": {
    "collapsed": false,
    "deletable": true,
    "editable": true
   },
   "outputs": [
    {
     "name": "stdout",
     "output_type": "stream",
     "text": [
      "0.0\n"
     ]
    },
    {
     "data": {
      "image/png": "[encoded data removed]",
      "text/plain": [
       "<matplotlib.figure.Figure at 0x7fc02de5b2d0>"
      ]
     },
     "metadata": {},
     "output_type": "display_data"
    }
   ],
   "source": [
    "plt.xlabel('Motif')\n",
    "plt.ylabel('Z-score')\n",
    "plt.title('Circuit Motif Signicance Profile')\n",
    "plt.xticks( np.arange(13), [i for i in range(1, 14)] )\n",
    "plt.plot( el_cir_s208_motif_list[4], '.r-', label='s208', markersize=13, linewidth=2)\n",
    "plt.plot(el_cir_s420_motif_list[0],'.b-', label='s420', markersize=13, linewidth=2)\n",
    "plt.plot(el_cir_s838_motif_list[0],'.g-', label='s838', markersize=13, linewidth=2)\n",
    "plt.legend()\n",
    "\n",
    "print el_cir_s208_motif_list[0][12]\n",
    "# plt.savefig(\"graph.pdf\")"
   ]
  },
  {
   "cell_type": "markdown",
   "metadata": {
    "deletable": true,
    "editable": true
   },
   "source": [
    "Social networks"
   ]
  },
  {
   "cell_type": "code",
   "execution_count": 66,
   "metadata": {
    "collapsed": false,
    "deletable": true,
    "editable": true
   },
   "outputs": [],
   "source": [
    "leader2_inter_motif_list = get_profile_list(shared_file_path + 'social_network/leader2inter_st.txt')\n",
    "\n",
    "prison_inter_motif_list = get_profile_list(shared_file_path + 'social_network/prisoninter_st.txt')"
   ]
  },
  {
   "cell_type": "markdown",
   "metadata": {
    "deletable": true,
    "editable": true
   },
   "source": [
    "Plotting social network profiles"
   ]
  },
  {
   "cell_type": "code",
   "execution_count": 76,
   "metadata": {
    "collapsed": false,
    "deletable": true,
    "editable": true
   },
   "outputs": [
    {
     "data": {
      "text/plain": [
       "<matplotlib.legend.Legend at 0x7fc18bc4cf90>"
      ]
     },
     "execution_count": 76,
     "metadata": {},
     "output_type": "execute_result"
    },
    {
     "data": {
      "image/png": "[encoded data removed]",
      "text/plain": [
       "<matplotlib.figure.Figure at 0x7fc18bf5b290>"
      ]
     },
     "metadata": {},
     "output_type": "display_data"
    }
   ],
   "source": [
    "plt.xlabel('Motif')\n",
    "plt.ylabel('Z-score')\n",
    "plt.title('Social Network Motif Signicance Profile')\n",
    "plt.xticks( np.arange(13), [i for i in range(1, 14)] )\n",
    "plt.plot(leader2_inter_motif_list[0], '.r-', label='leader2inter', markersize=13, linewidth=2)\n",
    "plt.plot(prison_inter_motif_list[0],'.b-', label='prisoninter', markersize=13, linewidth=2)\n",
    "\n",
    "plt.legend()"
   ]
  },
  {
   "cell_type": "markdown",
   "metadata": {
    "deletable": true,
    "editable": true
   },
   "source": [
    "E-coli Transcription Profile"
   ]
  },
  {
   "cell_type": "code",
   "execution_count": 77,
   "metadata": {
    "collapsed": true,
    "deletable": true,
    "editable": true
   },
   "outputs": [],
   "source": [
    "e_coli_motif_list = get_profile_list(shared_file_path + 'e_coli_transcription/1aorinter_st.txt')"
   ]
  },
  {
   "cell_type": "code",
   "execution_count": 78,
   "metadata": {
    "collapsed": false,
    "deletable": true,
    "editable": true
   },
   "outputs": [
    {
     "data": {
      "text/plain": [
       "<matplotlib.legend.Legend at 0x7fc18bbc88d0>"
      ]
     },
     "execution_count": 78,
     "metadata": {},
     "output_type": "execute_result"
    },
    {
     "data": {
      "image/png": "[encoded data removed]",
      "text/plain": [
       "<matplotlib.figure.Figure at 0x7fc18bc0ae90>"
      ]
     },
     "metadata": {},
     "output_type": "display_data"
    }
   ],
   "source": [
    "plt.xlabel('Motif')\n",
    "plt.ylabel('Z-score')\n",
    "plt.title('E-coli Transcription Motif Signicance Profile')\n",
    "plt.xticks( np.arange(13), [i for i in range(1, 14)] )\n",
    "plt.plot(e_coli_motif_list[0], '.r-', label='e-coli', markersize=13, linewidth=2)\n",
    "plt.legend()"
   ]
  },
  {
   "cell_type": "markdown",
   "metadata": {
    "deletable": true,
    "editable": true
   },
   "source": [
    "Yeast Transcription"
   ]
  },
  {
   "cell_type": "code",
   "execution_count": 70,
   "metadata": {
    "collapsed": true,
    "deletable": true,
    "editable": true
   },
   "outputs": [],
   "source": [
    "yeast_trans_motif_list = get_profile_list(shared_file_path + 'yeast_transcription/yeastinter_st.txt')"
   ]
  },
  {
   "cell_type": "code",
   "execution_count": 71,
   "metadata": {
    "collapsed": false,
    "deletable": true,
    "editable": true
   },
   "outputs": [
    {
     "data": {
      "text/plain": [
       "<matplotlib.legend.Legend at 0x7fc18bd636d0>"
      ]
     },
     "execution_count": 71,
     "metadata": {},
     "output_type": "execute_result"
    },
    {
     "data": {
      "image/png": "[encoded data removed]",
      "text/plain": [
       "<matplotlib.figure.Figure at 0x7fc18bfad510>"
      ]
     },
     "metadata": {},
     "output_type": "display_data"
    }
   ],
   "source": [
    "plt.xlabel('Motif')\n",
    "plt.ylabel('Z-score')\n",
    "plt.title('Yeast Transcription Motif Signicance Profile')\n",
    "plt.xticks( np.arange(13), [i for i in range(1, 14)] )\n",
    "plt.plot(yeast_trans_motif_list[0], '.b-', label='yeast_trasc', markersize=13, linewidth=2)\n",
    "plt.legend()"
   ]
  },
  {
   "cell_type": "markdown",
   "metadata": {
    "deletable": true,
    "editable": true
   },
   "source": [
    "Word Adjacency Profiles"
   ]
  },
  {
   "cell_type": "code",
   "execution_count": 79,
   "metadata": {
    "collapsed": false,
    "deletable": true,
    "editable": true
   },
   "outputs": [
    {
     "ename": "KeyboardInterrupt",
     "evalue": "",
     "output_type": "error",
     "traceback": [
      "\u001b[0;31m---------------------------------------------------------------------------\u001b[0m",
      "\u001b[0;31mKeyboardInterrupt\u001b[0m                         Traceback (most recent call last)",
      "\u001b[0;32m<ipython-input-79-e219d2b5a79a>\u001b[0m in \u001b[0;36m<module>\u001b[0;34m()\u001b[0m\n\u001b[1;32m      3\u001b[0m \u001b[0mfrench_motif_list\u001b[0m \u001b[0;34m=\u001b[0m \u001b[0mget_profile_list\u001b[0m\u001b[0;34m(\u001b[0m\u001b[0mshared_file_path\u001b[0m \u001b[0;34m+\u001b[0m \u001b[0;34m'word_adjacency/frenchbookinter_st.txt'\u001b[0m\u001b[0;34m)\u001b[0m\u001b[0;34m\u001b[0m\u001b[0m\n\u001b[1;32m      4\u001b[0m \u001b[0mjapanese_motif_list\u001b[0m \u001b[0;34m=\u001b[0m \u001b[0mget_profile_list\u001b[0m\u001b[0;34m(\u001b[0m\u001b[0mshared_file_path\u001b[0m \u001b[0;34m+\u001b[0m \u001b[0;34m'word_adjacency/japanesebookinter_st.txt'\u001b[0m\u001b[0;34m)\u001b[0m\u001b[0;34m\u001b[0m\u001b[0m\n\u001b[0;32m----> 5\u001b[0;31m \u001b[0mspanish_motif_list\u001b[0m \u001b[0;34m=\u001b[0m \u001b[0mget_profile_list\u001b[0m\u001b[0;34m(\u001b[0m\u001b[0mshared_file_path\u001b[0m \u001b[0;34m+\u001b[0m \u001b[0;34m'word_adjacency/spanishbookinter_st.txt'\u001b[0m\u001b[0;34m)\u001b[0m\u001b[0;34m\u001b[0m\u001b[0m\n\u001b[0m",
      "\u001b[0;32m<ipython-input-72-e2920d6b4be0>\u001b[0m in \u001b[0;36mget_profile_list\u001b[0;34m(filename)\u001b[0m\n\u001b[1;32m      7\u001b[0m \u001b[0;34m\u001b[0m\u001b[0m\n\u001b[1;32m      8\u001b[0m     \u001b[0;32mfor\u001b[0m \u001b[0mN\u001b[0m \u001b[0;32min\u001b[0m \u001b[0mswap_sizes\u001b[0m\u001b[0;34m:\u001b[0m\u001b[0;34m\u001b[0m\u001b[0m\n\u001b[0;32m----> 9\u001b[0;31m         \u001b[0mstd\u001b[0m\u001b[0;34m,\u001b[0m \u001b[0mrand_avg_freq\u001b[0m \u001b[0;34m=\u001b[0m \u001b[0mcalculate_random_zscore_factors\u001b[0m\u001b[0;34m(\u001b[0m\u001b[0mgraph\u001b[0m\u001b[0;34m,\u001b[0m \u001b[0;36m2\u001b[0m\u001b[0;34m,\u001b[0m \u001b[0mN\u001b[0m\u001b[0;34m,\u001b[0m \u001b[0mtriad_names\u001b[0m\u001b[0;34m)\u001b[0m\u001b[0;34m\u001b[0m\u001b[0m\n\u001b[0m\u001b[1;32m     10\u001b[0m         \u001b[0mmotif_sp\u001b[0m \u001b[0;34m=\u001b[0m \u001b[0mretrieve_motif_profile_normalized\u001b[0m\u001b[0;34m(\u001b[0m\u001b[0mtriad_names\u001b[0m\u001b[0;34m,\u001b[0m \u001b[0mcensus\u001b[0m\u001b[0;34m,\u001b[0m \u001b[0mrand_avg_freq\u001b[0m\u001b[0;34m,\u001b[0m \u001b[0mstd\u001b[0m\u001b[0;34m)\u001b[0m\u001b[0;34m\u001b[0m\u001b[0m\n\u001b[1;32m     11\u001b[0m         \u001b[0mmotif_list\u001b[0m\u001b[0;34m.\u001b[0m\u001b[0mextend\u001b[0m\u001b[0;34m(\u001b[0m\u001b[0;34m[\u001b[0m\u001b[0mmotif_sp\u001b[0m\u001b[0;34m]\u001b[0m\u001b[0;34m)\u001b[0m\u001b[0;34m\u001b[0m\u001b[0m\n",
      "\u001b[0;32m<ipython-input-9-5bac52efab45>\u001b[0m in \u001b[0;36mcalculate_random_zscore_factors\u001b[0;34m(G, num_randomizations, num_swaps, triad_names)\u001b[0m\n\u001b[1;32m     28\u001b[0m \u001b[0;34m\u001b[0m\u001b[0m\n\u001b[1;32m     29\u001b[0m         \u001b[0mrandomized\u001b[0m \u001b[0;34m=\u001b[0m \u001b[0mrandomize_network\u001b[0m\u001b[0;34m(\u001b[0m\u001b[0mG\u001b[0m\u001b[0;34m,\u001b[0m \u001b[0mnum_swaps\u001b[0m\u001b[0;34m)\u001b[0m\u001b[0;34m\u001b[0m\u001b[0m\n\u001b[0;32m---> 30\u001b[0;31m         \u001b[0mrandom_census\u001b[0m \u001b[0;34m=\u001b[0m \u001b[0mnx\u001b[0m\u001b[0;34m.\u001b[0m\u001b[0mtriadic_census\u001b[0m\u001b[0;34m(\u001b[0m\u001b[0mrandomized\u001b[0m\u001b[0;34m)\u001b[0m\u001b[0;34m\u001b[0m\u001b[0m\n\u001b[0m\u001b[1;32m     31\u001b[0m \u001b[0;34m\u001b[0m\u001b[0m\n\u001b[1;32m     32\u001b[0m         \u001b[0;32mfor\u001b[0m \u001b[0mmotif\u001b[0m \u001b[0;32min\u001b[0m \u001b[0mrandom_census\u001b[0m\u001b[0;34m:\u001b[0m\u001b[0;34m\u001b[0m\u001b[0m\n",
      "\u001b[0;32m/usr/lib/python2.7/dist-packages/networkx/algorithms/triads.pyc\u001b[0m in \u001b[0;36mtriadic_census\u001b[0;34m(G)\u001b[0m\n\u001b[1;32m    134\u001b[0m             \u001b[0;32mfor\u001b[0m \u001b[0mw\u001b[0m \u001b[0;32min\u001b[0m \u001b[0mneighbors\u001b[0m\u001b[0;34m:\u001b[0m\u001b[0;34m\u001b[0m\u001b[0m\n\u001b[1;32m    135\u001b[0m                 if m[u] < m[w] or (m[v] < m[w] and m[w] < m[u]\n\u001b[0;32m--> 136\u001b[0;31m                                    \u001b[0;32mand\u001b[0m \u001b[0mv\u001b[0m \u001b[0;32mnot\u001b[0m \u001b[0;32min\u001b[0m \u001b[0mG\u001b[0m\u001b[0;34m.\u001b[0m\u001b[0mpred\u001b[0m\u001b[0;34m[\u001b[0m\u001b[0mw\u001b[0m\u001b[0;34m]\u001b[0m\u001b[0;34m\u001b[0m\u001b[0m\n\u001b[0m\u001b[1;32m    137\u001b[0m                                    and v not in G.succ[w]):\n\u001b[1;32m    138\u001b[0m                     \u001b[0mcode\u001b[0m \u001b[0;34m=\u001b[0m \u001b[0m_tricode\u001b[0m\u001b[0;34m(\u001b[0m\u001b[0mG\u001b[0m\u001b[0;34m,\u001b[0m \u001b[0mv\u001b[0m\u001b[0;34m,\u001b[0m \u001b[0mu\u001b[0m\u001b[0;34m,\u001b[0m \u001b[0mw\u001b[0m\u001b[0;34m)\u001b[0m\u001b[0;34m\u001b[0m\u001b[0m\n",
      "\u001b[0;31mKeyboardInterrupt\u001b[0m: "
     ]
    }
   ],
   "source": [
    "#Darwin\n",
    "darwin_motif_list = get_profile_list(shared_file_path + 'word_adjacency/darwinbookinter_st.txt')\n",
    "french_motif_list = get_profile_list(shared_file_path + 'word_adjacency/frenchbookinter_st.txt')\n",
    "japanese_motif_list = get_profile_list(shared_file_path + 'word_adjacency/japanesebookinter_st.txt')\n",
    "spanish_motif_list = get_profile_list(shared_file_path + 'word_adjacency/spanishbookinter_st.txt')"
   ]
  },
  {
   "cell_type": "code",
   "execution_count": null,
   "metadata": {
    "collapsed": false,
    "deletable": true,
    "editable": true
   },
   "outputs": [],
   "source": [
    "plt.xlabel('Motif')\n",
    "plt.ylabel('Z-score')\n",
    "plt.title('Word Adjacency Motif Signicance Profile')\n",
    "plt.xticks( np.arange(13), [i for i in range(1, 14)] )\n",
    "plt.plot(darwin_motif_list[0], '.b-', label='darwin', markersize=13, linewidth=2)\n",
    "plt.plot(french_motif_list[0], '.r-', label='french', markersize=13, linewidth=2)\n",
    "plt.plot(japanese_motif_list[0], '.g-', label='japanese', markersize=13, linewidth=2)\n",
    "plt.plot(spanish_motif_list[0], '.m-', label='spanish', markersize=13, linewidth=2)\n",
    "\n",
    "plt.legend()"
   ]
  },
  {
   "cell_type": "code",
   "execution_count": null,
   "metadata": {
    "collapsed": true,
    "deletable": true,
    "editable": true
   },
   "outputs": [],
   "source": []
  }
 ],
 "metadata": {
  "kernelspec": {
   "display_name": "Python 2",
   "language": "python",
   "name": "python2"
  },
  "language_info": {
   "codemirror_mode": {
    "name": "ipython",
    "version": 2
   },
   "file_extension": ".py",
   "mimetype": "text/x-python",
   "name": "python",
   "nbconvert_exporter": "python",
   "pygments_lexer": "ipython2",
   "version": "2.7.12"
  }
 },
 "nbformat": 4,
 "nbformat_minor": 2
}
