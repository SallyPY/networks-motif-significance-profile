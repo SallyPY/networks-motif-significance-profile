{
 "cells": [
  {
   "cell_type": "code",
   "execution_count": 1,
   "metadata": {
    "collapsed": false,
    "deletable": true,
    "editable": true
   },
   "outputs": [],
   "source": [
    "#imports\n",
    "import networkx as nx\n",
    "import matplotlib.pyplot as plt\n",
    "%matplotlib inline\n",
    "import numpy as np\n",
    "import random\n",
    "import math"
   ]
  },
  {
   "cell_type": "code",
   "execution_count": 2,
   "metadata": {
    "collapsed": true,
    "deletable": true,
    "editable": true
   },
   "outputs": [],
   "source": [
    "shared_file_path = '/home/sallyyuen/Documents/Networks/final_project/sample_data/'"
   ]
  },
  {
   "cell_type": "markdown",
   "metadata": {
    "deletable": true,
    "editable": true
   },
   "source": [
    "Methods"
   ]
  },
  {
   "cell_type": "code",
   "execution_count": 3,
   "metadata": {
    "collapsed": false,
    "deletable": true,
    "editable": true
   },
   "outputs": [],
   "source": [
    "def calculate_zscore(target_freq, random_freq, std_dev):\n",
    "    \"\"\"Calculates a motif's z-score\n",
    "\n",
    "    Args:\n",
    "        target_freq: the motif frequency of the target network\n",
    "        random_freq: the average motif frequency of randomized target networks\n",
    "        std_dev: the standard deviation of motif frequencies of randomomized target networks\n",
    "        \n",
    "    Returns:\n",
    "        The z-score of the motif\n",
    "\n",
    "    \"\"\"\n",
    "    if std_dev == 0.0:\n",
    "        return (target_freq - random_freq)\n",
    "        \n",
    "    else:\n",
    "        return (target_freq - random_freq) / std_dev"
   ]
  },
  {
   "cell_type": "code",
   "execution_count": 4,
   "metadata": {
    "collapsed": false,
    "deletable": true,
    "editable": true
   },
   "outputs": [],
   "source": [
    "def randomize_network(G, num_swaps):\n",
    "    \"\"\"Randomize a network while preserving degree distribution.\n",
    "\n",
    "    Args:\n",
    "        G: the target network\n",
    "        num_swaps: the number of edge swaps\n",
    "        \n",
    "    Returns:\n",
    "        The randomized network\n",
    "\n",
    "    \"\"\"\n",
    "    copy = G.copy()\n",
    "    nodes = copy.nodes()\n",
    "    \n",
    "    for i in range(num_swaps):\n",
    "    #v1-v2, v3-v4 --> v1-v4, v3-v2\n",
    "        v1 = random.choice(nodes)\n",
    "\n",
    "        while len(copy.neighbors(v1)) == 0:\n",
    "            v1 = random.choice(nodes) \n",
    "        v2 = random.choice(copy.neighbors(v1))\n",
    "\n",
    "        v3 = get_valid_v3(copy, v1, v2, nodes)\n",
    "\n",
    "        neighbors = copy.neighbors(v3);\n",
    "\n",
    "        v4 = random.choice(neighbors)\n",
    "\n",
    "        while(v4 == v2 or v4 == v1 or copy.has_edge(v1, v4)):\n",
    "            neighbors.remove(v4)\n",
    "            # see if any neighbors of v3 are valid\n",
    "            if(len(neighbors) > 0):\n",
    "                v4 = random.choice(neighbors)\n",
    "            #chooses new v3 if v4 is not valid\n",
    "            else:\n",
    "                v3 = get_valid_v3(copy, v1, v2, nodes)\n",
    "                neighbors = copy.neighbors(v3);\n",
    "                v4 = random.choice(neighbors);\n",
    "\n",
    "        copy.remove_edge(v1, v2)\n",
    "        copy.remove_edge(v3, v4)\n",
    "        copy.add_edge(v1, v4)\n",
    "        copy.add_edge(v3, v2)\n",
    "            \n",
    "    return copy\n",
    "\n",
    "def get_valid_v3(G, v1, v2, nodes):\n",
    "    output = random.choice(nodes)\n",
    "    while output == v1 or output == v2 or len(G.neighbors(output)) == 0 or G.has_edge(output, v2):\n",
    "        output = random.choice(nodes) # get v3\n",
    "    return output"
   ]
  },
  {
   "cell_type": "code",
   "execution_count": 5,
   "metadata": {
    "collapsed": true,
    "deletable": true,
    "editable": true
   },
   "outputs": [],
   "source": [
    "def calculate_random_zscore_factors(G, num_randomizations, num_swaps, triad_names):\n",
    "    \"\"\"Randomize a network while preserving degree distribution\n",
    "    \n",
    "    Args:\n",
    "        G: the target network\n",
    "        num_randomizations: the number of randomizations\n",
    "        num_swaps: the number of edge swaps\n",
    "        triad_names: the list of triad names\n",
    "        \n",
    "    Returns:\n",
    "        The dictionary of key:motif - > value:standard deviation of frequency in randomomized target networks\n",
    "        the dictionary of key:motif - > value:average frequency in random graphs\n",
    "\n",
    "    \"\"\"\n",
    "\n",
    "    triad_frequencies = {}\n",
    "    triad_std_list = {}\n",
    "    triad_std = {} \n",
    "    census = {}\n",
    "    \n",
    "    for motif in triad_names:\n",
    "        triad_std_list[motif] = []\n",
    "        triad_std[motif] = 0\n",
    "        census[motif] = 0\n",
    "        triad_frequencies[motif] = 0\n",
    "    \n",
    "    for i in range(num_randomizations): \n",
    "        \n",
    "        randomized = randomize_network(G, num_swaps)\n",
    "        random_census = nx.triadic_census(randomized)  \n",
    "        \n",
    "        for motif in random_census:\n",
    "            triad_frequencies[motif] += random_census[motif]\n",
    "            triad_std_list[motif].extend([random_census[motif]])\n",
    "              \n",
    "    #standard deviation\n",
    "    for motif in triad_std_list:\n",
    "        triad_std[motif] = np.std(triad_std_list[motif])\n",
    "        \n",
    "    \n",
    "    #average frequency\n",
    "    for motif in triad_frequencies:\n",
    "        triad_frequencies[motif] = triad_frequencies[motif]/num_randomizations\n",
    "        \n",
    "    return triad_std, triad_frequencies"
   ]
  },
  {
   "cell_type": "code",
   "execution_count": 7,
   "metadata": {
    "collapsed": false,
    "deletable": true,
    "editable": true
   },
   "outputs": [],
   "source": [
    "def retrieve_motif_profile_normalized(triad_names, target_freq, rand_avg_freq, std):\n",
    "    \"\"\"Return the triad motif signicance profile of a network\n",
    "     \n",
    "    Args:\n",
    "        triad_names: the list of triad names\n",
    "        target_freq: the dictionary of key:motif -> value:motif frequencies of the target network\n",
    "        rand_avg_freq: the dictionary of key:motif -> value:average motif frequencies of randomized target networks\n",
    "        std: the dictionary of key:motif -> value:standard deviation of motif frequencies of randomomized target networks\n",
    "        \n",
    "    Returns:\n",
    "        The motif significance profile\n",
    "\n",
    "    \"\"\"\n",
    "\n",
    "    motif_sp = [None]*16\n",
    "    length = 0\n",
    "    for motif in triad_names:\n",
    "        zscore = calculate_zscore(target_freq[motif], rand_avg_freq[motif], std[motif])\n",
    "        motif_sp[triad_names.index(motif)] = zscore\n",
    "    \n",
    "    # eliminate first three motifs    \n",
    "    motif_sp = motif_sp[3:]\n",
    "    \n",
    "    for motif in motif_sp:\n",
    "        length += motif * motif\n",
    "        \n",
    "    length = math.sqrt(length)\n",
    "    #normalize\n",
    "    for i in range(13):\n",
    "        motif_sp[i] = motif_sp[i]/length\n",
    "\n",
    "    return motif_sp"
   ]
  },
  {
   "cell_type": "code",
   "execution_count": 8,
   "metadata": {
    "collapsed": false,
    "deletable": true,
    "editable": true
   },
   "outputs": [],
   "source": [
    "def get_profile_list(filename, swap_sizes, num_randomizations):\n",
    "    \"\"\"Return a list of triad motif signicance profiles of a network\n",
    "    \n",
    "    Args:\n",
    "        filename: the unique network file path\n",
    "        swap_sizes: the list of edge swap sizes\n",
    "        num_randomizations: the number of randomizations\n",
    "        \n",
    "    Returns:\n",
    "        The list of motif significance profiles of a network\n",
    "\n",
    "    \"\"\"\n",
    "    graph = nx.read_edgelist(shared_file_path + filename, create_using=nx.DiGraph(), nodetype=int, data=[('weight', float),])\n",
    "    census = nx.triadic_census(graph)\n",
    "    \n",
    "    motif_list =[]\n",
    "    triad_names = nx.algorithms.triads.TRIAD_NAMES\n",
    "\n",
    "    for N in swap_sizes:\n",
    "        std, rand_avg_freq = calculate_random_zscore_factors(graph, num_randomizations, N, triad_names)\n",
    "        motif_sp = retrieve_motif_profile_normalized(triad_names, census, rand_avg_freq, std)\n",
    "        motif_list.extend([motif_sp])\n",
    "    return motif_list"
   ]
  }
 ],
 "metadata": {
  "kernelspec": {
   "display_name": "Python 2",
   "language": "python",
   "name": "python2"
  },
  "language_info": {
   "codemirror_mode": {
    "name": "ipython",
    "version": 2
   },
   "file_extension": ".py",
   "mimetype": "text/x-python",
   "name": "python",
   "nbconvert_exporter": "python",
   "pygments_lexer": "ipython2",
   "version": "2.7.12"
  }
 },
 "nbformat": 4,
 "nbformat_minor": 2
}
